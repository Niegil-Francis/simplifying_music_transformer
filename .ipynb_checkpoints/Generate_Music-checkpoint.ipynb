version https://git-lfs.github.com/spec/v1
oid sha256:98bbfa142ef46b8cf18b98649ded7e2ccb4cba08064b88525e2f0f399e29e77d
size 34242
